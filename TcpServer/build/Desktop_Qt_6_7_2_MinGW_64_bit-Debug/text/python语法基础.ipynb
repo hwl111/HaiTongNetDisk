{
 "cells": [
  {
   "cell_type": "markdown",
   "id": "1bb1c87a",
   "metadata": {},
   "source": [
    "### 列表\n",
    "- 更新列表\n",
    "- 删除列表元素\n",
    "- 添加列表元素\n",
    "- 定义多维列表\n",
    "- 列表生成式"
   ]
  },
  {
   "cell_type": "code",
   "execution_count": 2,
   "id": "6ad5492a",
   "metadata": {},
   "outputs": [
    {
     "name": "stdout",
     "output_type": "stream",
     "text": [
      "中国\n",
      "['4', '5']\n"
     ]
    }
   ],
   "source": [
    "list1 = [\"中国\", \"美国\"]\n",
    "list2 = ['1', '2', '3', '4', '5', '6']\n",
    "print(list1[0])\n",
    "print(list2[3:5])"
   ]
  },
  {
   "cell_type": "code",
   "execution_count": 3,
   "id": "79444a43",
   "metadata": {},
   "outputs": [
    {
     "name": "stdout",
     "output_type": "stream",
     "text": [
      "中国\n",
      "英国\n"
     ]
    }
   ],
   "source": [
    "print(list1[0])\n",
    "list1[0] = \"英国\"\n",
    "print(list1[0])"
   ]
  },
  {
   "cell_type": "code",
   "execution_count": 9,
   "id": "bcbd29fe",
   "metadata": {},
   "outputs": [
    {
     "name": "stdout",
     "output_type": "stream",
     "text": [
      "['1', '2', '3', '4', '5', '6']\n",
      "['2', '3', '4', '5', '6']\n",
      "['2', '3', '4', '5', '6']\n",
      "['2', '3', '4', '5']\n"
     ]
    }
   ],
   "source": [
    "list2 = ['1', '2', '3', '4', '5', '6']\n",
    "print(list2)\n",
    "\n",
    "del list2[0]\n",
    "print(list2)\n",
    "\n",
    "list2 = ['1', '2', '3', '4', '5', '6']\n",
    "\n",
    "list2.remove('1')\n",
    "print(list2)\n",
    "\n",
    "list2 = ['1', '2', '3', '4', '5', '6']\n",
    "\n",
    "list2.pop(0) #删除位置0的元素\n",
    "list2.pop()  #删除最后一个元素\n",
    "print(list2)"
   ]
  },
  {
   "cell_type": "code",
   "execution_count": 10,
   "id": "91f5670c",
   "metadata": {},
   "outputs": [
    {
     "name": "stdout",
     "output_type": "stream",
     "text": [
      "['1', '2', '3', '4', '5', '6', '7']\n"
     ]
    }
   ],
   "source": [
    "list2 = ['1', '2', '3', '4', '5', '6']\n",
    "list2.append('7')\n",
    "print(list2)"
   ]
  },
  {
   "cell_type": "code",
   "execution_count": 11,
   "id": "7792716e",
   "metadata": {},
   "outputs": [
    {
     "name": "stdout",
     "output_type": "stream",
     "text": [
      "内存\n"
     ]
    }
   ],
   "source": [
    "list3 = [[\"CPU\", \"内存\"], [\"GPU\", \"硬盘\"]]\n",
    "print(list3[0][1])"
   ]
  },
  {
   "cell_type": "code",
   "execution_count": 12,
   "id": "02899a6d",
   "metadata": {},
   "outputs": [
    {
     "name": "stdout",
     "output_type": "stream",
     "text": [
      "[1, 2, 3, 4, 5, 6, 7, 8, 9]\n"
     ]
    }
   ],
   "source": [
    "#列表生成式\n",
    "L = list(range(1, 10))\n",
    "print(L)"
   ]
  },
  {
   "cell_type": "code",
   "execution_count": 14,
   "id": "9f85ff0c",
   "metadata": {},
   "outputs": [
    {
     "name": "stdout",
     "output_type": "stream",
     "text": [
      "[1, 4, 9, 16, 25, 36, 49, 64, 81, 100]\n"
     ]
    }
   ],
   "source": [
    "#生成[1*1， 2*2,....10*10]\n",
    "L = []\n",
    "for x in range(1, 11):\n",
    "    L.append(x * x)\n",
    "print(L)"
   ]
  },
  {
   "cell_type": "code",
   "execution_count": 15,
   "id": "f18ba5ad",
   "metadata": {},
   "outputs": [
    {
     "data": {
      "text/plain": [
       "[1, 4, 9, 16, 25, 36, 49, 64, 81, 100]"
      ]
     },
     "execution_count": 15,
     "metadata": {},
     "output_type": "execute_result"
    }
   ],
   "source": [
    "#列表生成式完成\n",
    "\n",
    "[x*x for x in range(1, 11)]"
   ]
  },
  {
   "cell_type": "code",
   "execution_count": 16,
   "id": "e79ec840",
   "metadata": {},
   "outputs": [
    {
     "data": {
      "text/plain": [
       "[4, 16, 36, 64, 100]"
      ]
     },
     "execution_count": 16,
     "metadata": {},
     "output_type": "execute_result"
    }
   ],
   "source": [
    "#for循环后面还可以加上if\n",
    "[x*x for x in range(1,11) if x%2 == 0]"
   ]
  },
  {
   "cell_type": "code",
   "execution_count": 17,
   "id": "96853a01",
   "metadata": {},
   "outputs": [
    {
     "data": {
      "text/plain": [
       "['AX', 'AY', 'AZ', 'BX', 'BY', 'BZ', 'CX', 'CY', 'CZ']"
      ]
     },
     "execution_count": 17,
     "metadata": {},
     "output_type": "execute_result"
    }
   ],
   "source": [
    "#列表生成式可以用2层for循环\n",
    "[x+y for x in 'ABC' for y in 'XYZ']"
   ]
  },
  {
   "cell_type": "markdown",
   "id": "1739298b",
   "metadata": {},
   "source": [
    "### 元组\n",
    "- 创建元组\n",
    "- 访问元组\n",
    "- 连接元组\n",
    "- 删除元组\n",
    "- 元组与列表的转换"
   ]
  },
  {
   "cell_type": "code",
   "execution_count": 19,
   "id": "a296c2d2",
   "metadata": {},
   "outputs": [
    {
     "name": "stdout",
     "output_type": "stream",
     "text": [
      "1\n",
      "(3, 4)\n"
     ]
    }
   ],
   "source": [
    "tup1 = (1, 2, 3, 4, 5)\n",
    "print(tup1[0])\n",
    "print(tup1[2:4])"
   ]
  },
  {
   "cell_type": "code",
   "execution_count": 20,
   "id": "62c76578",
   "metadata": {},
   "outputs": [
    {
     "name": "stdout",
     "output_type": "stream",
     "text": [
      "(1, 2, 3, 4, 5, 'a', 'b', 'c', 'd')\n"
     ]
    }
   ],
   "source": [
    "tup2 = ('a', 'b', 'c', 'd')\n",
    "\n",
    "tup3 = tup1 + tup2\n",
    "print(tup3)"
   ]
  },
  {
   "cell_type": "code",
   "execution_count": 21,
   "id": "5526466e",
   "metadata": {},
   "outputs": [
    {
     "ename": "NameError",
     "evalue": "name 'tup1' is not defined",
     "output_type": "error",
     "traceback": [
      "\u001b[1;31m---------------------------------------------------------------------------\u001b[0m",
      "\u001b[1;31mNameError\u001b[0m                                 Traceback (most recent call last)",
      "Cell \u001b[1;32mIn[21], line 5\u001b[0m\n\u001b[0;32m      2\u001b[0m tup1 \u001b[38;5;241m=\u001b[39m (\u001b[38;5;241m1\u001b[39m, \u001b[38;5;241m2\u001b[39m, \u001b[38;5;241m3\u001b[39m, \u001b[38;5;241m4\u001b[39m, \u001b[38;5;241m5\u001b[39m)\n\u001b[0;32m      4\u001b[0m \u001b[38;5;28;01mdel\u001b[39;00m tup1\n\u001b[1;32m----> 5\u001b[0m \u001b[38;5;28mprint\u001b[39m(tup1)\n",
      "\u001b[1;31mNameError\u001b[0m: name 'tup1' is not defined"
     ]
    }
   ],
   "source": [
    "#元组的元素不可删除，可以删除整个元组\n",
    "tup1 = (1, 2, 3, 4, 5)\n",
    "\n",
    "del tup1\n",
    "print(tup1)"
   ]
  },
  {
   "cell_type": "code",
   "execution_count": 22,
   "id": "34a0166d",
   "metadata": {},
   "outputs": [
    {
     "name": "stdout",
     "output_type": "stream",
     "text": [
      "[1, 2, 3, 4, 5]\n",
      "<class 'list'>\n"
     ]
    }
   ],
   "source": [
    "tup1 = (1, 2, 3, 4, 5)\n",
    "\n",
    "list1 = list(tup1)\n",
    "print(list1)\n",
    "print(type(list1))"
   ]
  },
  {
   "cell_type": "markdown",
   "id": "5a925e01",
   "metadata": {},
   "source": [
    "### 字典\n",
    "- 创建字典\n",
    "- 访问字典\n",
    "- 修改字典\n",
    "- 删除字典元素\n",
    "- in 运算\n",
    "- 获取字典中所有值\n",
    "- items 方法"
   ]
  },
  {
   "cell_type": "code",
   "execution_count": 23,
   "id": "09020cfb",
   "metadata": {},
   "outputs": [
    {
     "name": "stdout",
     "output_type": "stream",
     "text": [
      "hwl\n"
     ]
    }
   ],
   "source": [
    "dict1 = {'name' : 'hwl', 'age' : 20}\n",
    "print(dict1['name'])"
   ]
  },
  {
   "cell_type": "code",
   "execution_count": 24,
   "id": "1b2f3a50",
   "metadata": {},
   "outputs": [
    {
     "name": "stdout",
     "output_type": "stream",
     "text": [
      "18\n",
      "hubu\n"
     ]
    }
   ],
   "source": [
    "dict1 = {'name' : 'hwl', 'age' : 20}\n",
    "\n",
    "dict1['age'] = 18\n",
    "dict1['school'] = 'hubu'\n",
    "print(dict1['age'])\n",
    "print(dict1['school'])"
   ]
  },
  {
   "cell_type": "code",
   "execution_count": 26,
   "id": "6bd890df",
   "metadata": {},
   "outputs": [
    {
     "name": "stdout",
     "output_type": "stream",
     "text": [
      "{'age': 20}\n",
      "{}\n"
     ]
    }
   ],
   "source": [
    "dict1 = {'name' : 'hwl', 'age' : 20}\n",
    "\n",
    "#del 用键删除元素 clear() 清空所有元素\n",
    "del dict1['name']\n",
    "print(dict1)\n",
    "\n",
    "dict1.clear()\n",
    "print(dict1)"
   ]
  },
  {
   "cell_type": "code",
   "execution_count": 1,
   "id": "323fe3d6",
   "metadata": {},
   "outputs": [
    {
     "name": "stdout",
     "output_type": "stream",
     "text": [
      "True\n"
     ]
    }
   ],
   "source": [
    "#in 运算\n",
    "\n",
    "dict1 = {'name' : 'hwl', 'age' : 20}\n",
    "print('age' in dict1)"
   ]
  },
  {
   "cell_type": "code",
   "execution_count": 2,
   "id": "0bc7aa99",
   "metadata": {},
   "outputs": [
    {
     "name": "stdout",
     "output_type": "stream",
     "text": [
      "{'name': 'hwl', 'age': 20}\n"
     ]
    }
   ],
   "source": [
    "#dict.values()以列表的形式返回字典所有值\n",
    "print(dict1)"
   ]
  },
  {
   "cell_type": "code",
   "execution_count": 3,
   "id": "857d0148",
   "metadata": {},
   "outputs": [
    {
     "name": "stdout",
     "output_type": "stream",
     "text": [
      "name hwl\n",
      "age 20\n"
     ]
    }
   ],
   "source": [
    "#items()方法把字典每对key值和value组成一个元组，并且在列表中返回\n",
    "dict1 = {'name' : 'hwl', 'age' : 20}\n",
    "for key , value in dict1.items():\n",
    "    print(key, value)"
   ]
  },
  {
   "cell_type": "markdown",
   "id": "4b38aa7c",
   "metadata": {},
   "source": [
    "### 集合\n",
    "- 创建集合\n",
    "- 成员测试\n",
    "- 集合运算"
   ]
  },
  {
   "cell_type": "code",
   "execution_count": 4,
   "id": "22718632",
   "metadata": {},
   "outputs": [
    {
     "name": "stdout",
     "output_type": "stream",
     "text": [
      "{'Jack', 'Jim', 'Rose', 'Tom'}\n"
     ]
    }
   ],
   "source": [
    "student = {'Jim', 'Tom', 'Jack', 'Rose'}\n",
    "print(student)"
   ]
  },
  {
   "cell_type": "code",
   "execution_count": 5,
   "id": "6a339ce0",
   "metadata": {},
   "outputs": [
    {
     "name": "stdout",
     "output_type": "stream",
     "text": [
      "Tom在集合student中\n"
     ]
    }
   ],
   "source": [
    "if('Tom' in student):\n",
    "    print(\"Tom在集合student中\")\n",
    "else:\n",
    "    print(\"Tom不在集合student中\")"
   ]
  },
  {
   "cell_type": "code",
   "execution_count": 6,
   "id": "6df4db15",
   "metadata": {},
   "outputs": [
    {
     "name": "stdout",
     "output_type": "stream",
     "text": [
      "a与b的差集： {'3', 'c', 'b'}\n",
      "a与b的并集： {'b', 'd', 'f', 'a', '5', 'c', '4', '3', '2', 'e', '6', '1'}\n",
      "a与b的交集： {'d', 'a', '2', 'e', '1'}\n",
      "a与b不同时存在的元素： {'f', 'b', '5', '4', 'c', '3', '6'}\n"
     ]
    }
   ],
   "source": [
    "#集合运算\n",
    "\n",
    "a = set('abcde123')\n",
    "b = set('adfe45621')\n",
    "\n",
    "print(\"a与b的差集：\", a - b)\n",
    "print(\"a与b的并集：\", a | b)\n",
    "print(\"a与b的交集：\", a & b)\n",
    "print(\"a与b不同时存在的元素：\", a ^ b)"
   ]
  },
  {
   "cell_type": "markdown",
   "id": "bf1c5b24",
   "metadata": {},
   "source": [
    "### Python控制语句\n",
    "- 选择结构\n",
    "- 循环结构"
   ]
  },
  {
   "cell_type": "code",
   "execution_count": 7,
   "id": "37280113",
   "metadata": {},
   "outputs": [
    {
     "name": "stdout",
     "output_type": "stream",
     "text": [
      "输入年份:2024\n",
      "2024 是闰年\n"
     ]
    }
   ],
   "source": [
    "year = int(input('输入年份:'))\n",
    "\n",
    "if year%4 == 0 and year%100 != 0 or year%400 == 0:\n",
    "    print(year, \"是闰年\")\n",
    "else:\n",
    "    print(year, \"不是闰年\")"
   ]
  },
  {
   "cell_type": "code",
   "execution_count": 8,
   "id": "3a0825e6",
   "metadata": {},
   "outputs": [
    {
     "name": "stdout",
     "output_type": "stream",
     "text": [
      "count =  0\n",
      "count =  1\n",
      "count =  2\n",
      "count =  3\n",
      "count =  4\n",
      "count =  5\n"
     ]
    }
   ],
   "source": [
    "count = 0\n",
    "while count <= 5:\n",
    "    print('count = ', count)\n",
    "    count += 1\n"
   ]
  },
  {
   "cell_type": "code",
   "execution_count": 9,
   "id": "9b4c0e0e",
   "metadata": {},
   "outputs": [
    {
     "name": "stdout",
     "output_type": "stream",
     "text": [
      "5050\n"
     ]
    }
   ],
   "source": [
    "sum = 0\n",
    "for x in range(1, 101):\n",
    "    sum += x\n",
    "print(sum)"
   ]
  },
  {
   "cell_type": "markdown",
   "id": "ee42dacc",
   "metadata": {},
   "source": [
    "### Python的函数与模块\n",
    "- 函数的定义\n",
    "- 函数的使用\n",
    "- 闭包\n",
    "- 函数的递归调用\n",
    "- 模块"
   ]
  },
  {
   "cell_type": "code",
   "execution_count": 12,
   "id": "635b32f6",
   "metadata": {},
   "outputs": [
    {
     "name": "stdout",
     "output_type": "stream",
     "text": [
      "6\n"
     ]
    }
   ],
   "source": [
    "#闭包 函数的嵌套\n",
    "\n",
    "def func_lib():\n",
    "    def add(x, y):\n",
    "        return x + y\n",
    "    return add\n",
    "\n",
    "fadd = func_lib()\n",
    "print(fadd(1, 5))"
   ]
  },
  {
   "cell_type": "code",
   "execution_count": 14,
   "id": "dacd1479",
   "metadata": {},
   "outputs": [
    {
     "name": "stdout",
     "output_type": "stream",
     "text": [
      "55\n"
     ]
    }
   ],
   "source": [
    "#函数的递归调用，函数在执行过程中直接或间接调用自己本身\n",
    "\n",
    "#求1^5的平方\n",
    "def f(x):\n",
    "    if x == 1:\n",
    "        return 1\n",
    "    else:\n",
    "        return(f(x-1) + x*x)\n",
    "print(f(5))"
   ]
  },
  {
   "cell_type": "code",
   "execution_count": 15,
   "id": "909f6002",
   "metadata": {},
   "outputs": [
    {
     "name": "stdout",
     "output_type": "stream",
     "text": [
      "50的平方根： 7.0710678118654755\n"
     ]
    }
   ],
   "source": [
    "#模块\n",
    "import math\n",
    "print(\"50的平方根：\", math.sqrt(50))"
   ]
  },
  {
   "cell_type": "markdown",
   "id": "7524fbb5",
   "metadata": {},
   "source": [
    "### Python面向对象程序设计\n",
    "- 定义和使用类\n",
    "- 构造函数\n",
    "- 析构函数\n",
    "- 实例属性和类属性\n",
    "- 私有成员和公有成员\n",
    "- 方法\n",
    "- 类的继承\n",
    "- 多态"
   ]
  },
  {
   "cell_type": "code",
   "execution_count": null,
   "id": "a022b8b6",
   "metadata": {},
   "outputs": [],
   "source": [
    "# 扑克牌发牌程序\n",
    "\n",
    "#Card类\n",
    "class Card():\n",
    "    RANKS = [\"A\", \"2\", \"3\", \"4\", \"5\", \"6\", \"7\", \"8\", \"9\", \"10\", \"J\", \"Q\", \"K\"]\n",
    "    SUIT = [\"梅\", \"方\", \"红\", \"黑\"]\n",
    "    \n",
    "    def __init__(self, rank, suit, face_up=True):\n",
    "        self.rank = rank\n",
    "        self.suit = suit\n",
    "        self.is_face_up = face_up\n",
    "        \n",
    "    def __str__(self):              #重写print()方法，打印一张牌的信息\n",
    "        if self.is_face_up:\n",
    "            rep = self.rank + self.suit\n",
    "        else:\n",
    "            rep = \"XX\"\n",
    "        return rep\n",
    "    \n",
    "    def pic_order(self):             #牌的顺序号\n",
    "        if self.rank == \"A\":\n",
    "            FaceNum = 1\n",
    "        elif self.rank == \"J\":\n",
    "            FaceNUm = 11\n",
    "        elif self.rank == \"Q\":\n",
    "            FaceNum = 12\n",
    "        elif self.rank == \"k\":\n",
    "            FaceNum = 13\n",
    "        if self.suit == \"梅\":\n",
    "            Suit = 1\n",
    "        elif self.suit == \"方\":\n",
    "            Suit = 2\n",
    "        elif self.suit == \"红\":\n",
    "            Suit = 3\n",
    "        else:\n",
    "            Suit = 4\n",
    "            \n",
    "        return (Suit - 1) * 13 + FaceNUm\n",
    "    \n",
    "    def flip(self):\n",
    "        self.is_face_up = not self.is_face_up\n",
    "        \n",
    "        \n",
    "#Hand类\n",
    "class Hand():\n",
    "    def __init__(self):\n",
    "        self.cards = []\n",
    "    \n",
    "    def __str__(self):\n",
    "        if self.cards:\n",
    "            rep = \"\"\n",
    "            for card in self.cards:\n",
    "                rep +=str(card) + \"\\t\"\n",
    "        else:\n",
    "            rep = \"无牌\"\n",
    "        return rep\n",
    "    \n",
    "    def clear(self):\n",
    "        self.card = []\n",
    "    \n",
    "    def add(self, card):\n",
    "        self.cards.append(card)\n",
    "        \n",
    "    def give(self, card, other_hand):\n",
    "        self.cards.remove(card)\n",
    "        other_hand.add(card)\n",
    "        \n",
    "        \n",
    "#Poke类\n",
    "class Poke(Hand):\n",
    "    \n",
    "    def populate(self):\n",
    "        for suit in Card.SUIT:\n",
    "            for rank in Card.RANKS:\n",
    "                self.add(Card(rank, suit))\n",
    "                \n",
    "    def shuffle(self):\n",
    "        import random\n",
    "        random.shuffle(self.cards)\n",
    "        \n",
    "    def deal(self, hands, per_hand = 13):\n",
    "        for rounds in range(per_hand):\n",
    "            for hand in hands:\n",
    "                if self.cards:\n",
    "                    top_card = self.cards[0]  \n",
    "                    self.cards.remove(top_card)\n",
    "                    hand.add(top_card)\n",
    "                else:\n",
    "                    print(\"不能继续发牌了，牌已经发完了\")\n",
    "    \n",
    "    \n",
    "if __name__ == \"__main__\":\n",
    "    print(\"This is a module with classes for playing cards.\")\n",
    "    \n",
    "    players = [Hand(), Hand(), Hand(), Hand()]\n",
    "    poke1=Poke()\n",
    "    poke1.populate()\n",
    "    poke1.shuffle()\n",
    "    poke1.deal(players, 13)\n",
    "    \n",
    "    n = 1\n",
    "    for hand in players:\n",
    "        print(\"牌手\",n,end=\":\")\n",
    "        print(hand)\n",
    "        n = n+1\n",
    "    input(\"\\nPress the enter key to exit.\")"
   ]
  },
  {
   "cell_type": "code",
   "execution_count": null,
   "id": "615e961a",
   "metadata": {},
   "outputs": [],
   "source": []
  },
  {
   "cell_type": "code",
   "execution_count": null,
   "id": "7bd9ec6a",
   "metadata": {},
   "outputs": [],
   "source": []
  }
 ],
 "metadata": {
  "kernelspec": {
   "display_name": "Python 3 (ipykernel)",
   "language": "python",
   "name": "python3"
  },
  "language_info": {
   "codemirror_mode": {
    "name": "ipython",
    "version": 3
   },
   "file_extension": ".py",
   "mimetype": "text/x-python",
   "name": "python",
   "nbconvert_exporter": "python",
   "pygments_lexer": "ipython3",
   "version": "3.11.5"
  }
 },
 "nbformat": 4,
 "nbformat_minor": 5
}
